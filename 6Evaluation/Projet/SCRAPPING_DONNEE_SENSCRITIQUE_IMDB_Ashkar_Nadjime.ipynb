{
 "cells": [
  {
   "cell_type": "code",
   "execution_count": 1,
   "metadata": {},
   "outputs": [],
   "source": [
    "from selenium import webdriver\n",
    "import time\n",
    "import random as r\n",
    "\n",
    "import requests\n",
    "import io\n",
    "from PIL import Image"
   ]
  },
  {
   "cell_type": "markdown",
   "metadata": {},
   "source": [
    "# SCRAPPING SENS CRITIQUE"
   ]
  },
  {
   "cell_type": "raw",
   "metadata": {},
   "source": [
    "C'est un scrapping qui va se faire en 2 parties :\n",
    "1 - On va déjà récupérer la liste des film correspondant à chaque année(2013 à 2019)\n",
    "2 - On fait un nettoyage de la liste des films puis on va itérer sur ces listes pour accéder à chaque fiche de film et récupérer toutes les infos qui nous interessent"
   ]
  },
  {
   "cell_type": "markdown",
   "metadata": {},
   "source": [
    "1 - RECUPEREATION DE LA LISTE DE NOM DE FILM"
   ]
  },
  {
   "cell_type": "code",
   "execution_count": 2,
   "metadata": {},
   "outputs": [],
   "source": [
    "#La liste des liens où on va faire le scrapping\n",
    "liste_liens = {\n",
    "    2013 : \"https://www.senscritique.com/top/resultats/Les_meilleurs_films_de_2013/173207\",\n",
    "    2014 : \"https://www.senscritique.com/top/resultats/Les_meilleurs_films_de_2014/367137\",\n",
    "    2015 : \"https://www.senscritique.com/top/resultats/Les_meilleurs_films_de_2015/703337\",\n",
    "    2016 : \"https://www.senscritique.com/top/resultats/Les_meilleurs_films_de_2016/1152822\",\n",
    "    2017 : \"https://www.senscritique.com/top/resultats/Les_meilleurs_films_de_2017/1522840\",\n",
    "    2018 : \"https://www.senscritique.com/top/resultats/Les_meilleurs_films_de_2018/1757790\",\n",
    "    2019 : \"https://www.senscritique.com/top/resultats/Les_meilleurs_films_de_2019/2301802\"\n",
    "}\n"
   ]
  },
  {
   "cell_type": "code",
   "execution_count": 3,
   "metadata": {},
   "outputs": [
    {
     "data": {
      "text/plain": [
       "7"
      ]
     },
     "execution_count": 3,
     "metadata": {},
     "output_type": "execute_result"
    }
   ],
   "source": [
    "liste_nom_film = []\n",
    "IS_LINUX = False\n",
    "chrome = webdriver.Chrome(executable_path=\"chromedriver\" if not IS_LINUX else \"./chromedriver_linux\")\n",
    "for i in range(2013, 2020):\n",
    "    chrome.get(liste_liens[i])\n",
    "    chrome.execute_script(\"window.scrollTo(0, document.body.scrollHeight);\") \n",
    "    time.sleep(1)\n",
    "    \n",
    "    all_widgets = chrome.find_elements_by_class_name(\"d-rubric\")\n",
    "    first_line = all_widgets[0]\n",
    "    all_first_line_elements = first_line.find_elements_by_class_name('elpo-item')\n",
    "    \n",
    "    def extract_title(offer_web_element):\n",
    "        lst_title = []\n",
    "        for j in range(len(offer_web_element)):\n",
    "            d = offer_web_element[j].text\n",
    "            d = d.split(\"\\n\")\n",
    "            d = d[1]\n",
    "            d = d.split(\"(\"+str(i)+\")\")\n",
    "            lst_title.append(d[0][0:-1])\n",
    "        return lst_title\n",
    "    \n",
    "    liste_nom_film.append(extract_title(all_first_line_elements))\n",
    "    \n",
    "    \n",
    "len(liste_nom_film)"
   ]
  },
  {
   "cell_type": "code",
   "execution_count": 4,
   "metadata": {},
   "outputs": [],
   "source": [
    "#On va nettoyer la liste que nous venons de récupérer\n",
    "for i in range(len(liste_nom_film)):\n",
    "    for j in range(len(liste_nom_film[i])):\n",
    "        if \" (20\" in liste_nom_film[i][j]:\n",
    "            liste_nom_film[i][j] = liste_nom_film[i][j].split(\" (20\")[0]\n",
    "\n",
    "doubles = []\n",
    "for i in range(len(liste_nom_film)):\n",
    "    for j in range(len(liste_nom_film[i])):\n",
    "        film = liste_nom_film[i][j]\n",
    "        for k in range(7):\n",
    "            if film in liste_nom_film[k] and k!=i:\n",
    "                doubles.append([i,j])\n",
    "for copie in doubles:\n",
    "    del liste_nom_film[copie[0]][copie[1]]"
   ]
  },
  {
   "cell_type": "markdown",
   "metadata": {},
   "source": [
    "2 - Récupération des infos pour chaque film"
   ]
  },
  {
   "cell_type": "code",
   "execution_count": 5,
   "metadata": {},
   "outputs": [],
   "source": [
    "def recuperation_donnee(nom_film):\n",
    "    link = chrome.find_element_by_link_text(nom_film)\n",
    "    link.click()\n",
    "    time.sleep(3)\n",
    "    all_widgets_desc = chrome.find_elements_by_class_name(\"pvi-productDetails\")\n",
    "    description = all_widgets_desc[0].find_elements_by_class_name('pvi-productDetails-item')\n",
    "    a = []\n",
    "    for elt in description:\n",
    "        a.append(elt.text)\n",
    "    type_production = a[0].split(' de ')[0]\n",
    "    if type_production == \"Documentaire\":\n",
    "        style_film = None\n",
    "        realisateur = \",\".join(a[0].split(' de ')[1].split(' et ')).split(\",\")\n",
    "        duree = a[1]\n",
    "        date_de_sortie = a[2]\n",
    "    else:\n",
    "        style_film = \",\".join(a[1].split(' et ')).split(\",\")\n",
    "        realisateur = \",\".join(a[0].split(' de ')[1].split(' et ')).split(\",\")\n",
    "        duree = a[2]\n",
    "        date_de_sortie = a[3]\n",
    "    try:\n",
    "        acteurs = \"\".join(chrome.find_elements_by_class_name('pvi-productDetails-workers')[0].text.split('Avec ')).split(',')\n",
    "    except:\n",
    "        acteurs = None\n",
    "    try:\n",
    "        link = chrome.find_element_by_class_name(\"d-link\")\n",
    "        link.click()\n",
    "        synopsis = chrome.find_elements_by_xpath('/html/body/div[3]/div[2]/div[3]/div/section[1]/p[2]')[0].text.split(' Fermer')[0]\n",
    "        if synopsis=='':\n",
    "            while synopsis=='':\n",
    "                synopsis = chrome.find_elements_by_xpath('/html/body/div[3]/div[2]/div[3]/div/section[1]/p[2]')[0].text.split(' Fermer')[0]        \n",
    "    except:\n",
    "        synopsis = chrome.find_elements_by_class_name('pvi-productDetails-resume')[0].text\n",
    "  \n",
    "        \n",
    "    charts = chrome.find_elements_by_class_name(\"pvi-product-scrating\")\n",
    "    c = [elt.text+ \"\\n\"  for elt in charts]\n",
    "    c = c[0].split(\"\\n\")\n",
    "    repartition_note = c[1].split(\" \")\n",
    "    for j in range(len(repartition_note)):\n",
    "        repartition_note[j] = int(repartition_note[j])\n",
    "   \n",
    "    dico_film = {\"nom_film\" : nom_film,\n",
    "                 \"type_production\" : type_production,\n",
    "                 \"theme_production\" :style_film,\n",
    "                 \"Synopsis\" : synopsis, \n",
    "                 \"Realisateur\" : realisateur,  \n",
    "                 \"duree_film\" : duree, \n",
    "                 \"sortie_film\" : date_de_sortie,\n",
    "                 \"acteurs_principaux\" : acteurs,\n",
    "                 \"charts_SENSCRITIQUE\" : {\"note_moyenne\" : float(c[0]), \"nombre_critiques\" : sum(repartition_note), \"repartition_note\":repartition_note}\n",
    "        }\n",
    "    \n",
    "    return dico_film"
   ]
  },
  {
   "cell_type": "code",
   "execution_count": 57,
   "metadata": {},
   "outputs": [
    {
     "data": {
      "text/plain": [
       "'\\nlst_dico = []\\nfor i in range(2013, 2020):\\n    chrome.get(liste_liens[i])\\n    for j in range(len(liste_nom_film[i-2013])):\\n        chrome.execute_script(\"window.scrollTo(0, document.body.scrollHeight);\") \\n        time.sleep(1)\\n        chrome.execute_script(\"scrollTo(0, 0);\")\\n        lst_dico.append(recuperation_donnee(liste_nom_film[i-2013][j]))\\n\\n        #ON RECUP TOUTES LES CHARTS LIE AU FILM\\n\\n        #ON REPART SUR LA PAGE DE BASE ET ON REFAIT TOUT CE QU\\'ON VIENT DE VOIR POUR UN AUTRE FILM\\n        chrome.get(liste_liens[i])\\n        chrome.execute_script(\"window.scrollTo(0, document.body.scrollHeight);\") \\n        time.sleep(1)\\n        chrome.execute_script(\"scrollTo(0, 0);\")\\n'"
      ]
     },
     "execution_count": 57,
     "metadata": {},
     "output_type": "execute_result"
    }
   ],
   "source": [
    "#Commande qui prend beaucoup de temps(environ 2h qui va scrappé toutes les infos)\n",
    "\"\"\"\n",
    "lst_dico = []\n",
    "for i in range(2013, 2020):\n",
    "    chrome.get(liste_liens[i])\n",
    "    for j in range(len(liste_nom_film[i-2013])):\n",
    "        chrome.execute_script(\"window.scrollTo(0, document.body.scrollHeight);\") \n",
    "        time.sleep(1)\n",
    "        chrome.execute_script(\"scrollTo(0, 0);\")\n",
    "        lst_dico.append(recuperation_donnee(liste_nom_film[i-2013][j]))\n",
    "\n",
    "        #ON RECUP TOUTES LES CHARTS LIE AU FILM\n",
    "\n",
    "        #ON REPART SUR LA PAGE DE BASE ET ON REFAIT TOUT CE QU'ON VIENT DE VOIR POUR UN AUTRE FILM\n",
    "        chrome.get(liste_liens[i])\n",
    "        chrome.execute_script(\"window.scrollTo(0, document.body.scrollHeight);\") \n",
    "        time.sleep(1)\n",
    "        chrome.execute_script(\"scrollTo(0, 0);\")\n",
    "\"\"\"\n"
   ]
  },
  {
   "cell_type": "code",
   "execution_count": 9,
   "metadata": {},
   "outputs": [
    {
     "data": {
      "text/plain": [
       "('Imitation Game',\n",
       " {'nom_film': 'Imitation Game',\n",
       "  'type_production': 'Film',\n",
       "  'theme_production': ['Biopic', ' drame', ' thriller'],\n",
       "  'Synopsis': \"En 1940, Alan Turing est chargé par le gouvernement britannique d'entraver le fonctionnement d'Enigma, la machine de cryptage allemande, réputée invulnérable.\",\n",
       "  'Realisateur': ['Morten Tyldum'],\n",
       "  'duree_film': '1 h 54 min',\n",
       "  'sortie_film': '14 novembre 2014',\n",
       "  'acteurs_principaux': ['Benedict Cumberbatch',\n",
       "   ' Keira Knightley',\n",
       "   ' Matthew Goode'],\n",
       "  'charts_SENSCRITIQUE': {'note_moyenne': 7.0,\n",
       "   'nombre_critiques': 46688,\n",
       "   'repartition_note': [72,\n",
       "    127,\n",
       "    305,\n",
       "    815,\n",
       "    2230,\n",
       "    7160,\n",
       "    16421,\n",
       "    13738,\n",
       "    4621,\n",
       "    1199]}})"
      ]
     },
     "execution_count": 9,
     "metadata": {},
     "output_type": "execute_result"
    }
   ],
   "source": [
    "#PROGRAMME DE TEST(Pour prouver que le scrapping marche) SENSCRITIQUE\n",
    "def test_SENSCRITIQUE():\n",
    "    liste_alea = liste_nom_film[r.randint(0,len(liste_nom_film)-1)]\n",
    "    film  = liste_alea[r.randint(0,len(liste_alea)-1)]\n",
    "    for i in range(len(liste_nom_film)):\n",
    "        if liste_nom_film[i] == liste_alea:\n",
    "            j=i\n",
    "\n",
    "    chrome.get(liste_liens[2013+j])\n",
    "    chrome.execute_script(\"window.scrollTo(0, document.body.scrollHeight);\")   \n",
    "    time.sleep(1)\n",
    "    chrome.execute_script(\"scrollTo(0, 0);\")\n",
    "\n",
    "    return film, recuperation_donnee(film)\n",
    "\n",
    "test_SENSCRITIQUE()"
   ]
  },
  {
   "cell_type": "code",
   "execution_count": 10,
   "metadata": {},
   "outputs": [
    {
     "data": {
      "text/plain": [
       "[{'nom_film': \"Why Don't You Play in Hell?\",\n",
       "  'type_production': 'Film',\n",
       "  'theme_production': ['Action', ' comédie', 'drame'],\n",
       "  'Synopsis': \"Muto et Ikegami sont deux gangsters qui se détestent : l'un cherche un rôle de cinéma pour sa fille, l'autre est amoureux de cette dernière.\",\n",
       "  'Realisateur': ['Sion Sono'],\n",
       "  'duree_film': '2 h 06 min',\n",
       "  'sortie_film': '28 septembre 2013',\n",
       "  'acteurs_principaux': ['Jun Kunimura',\n",
       "   ' Fumi Nikaidô',\n",
       "   \" Shin'ichi Tsutsumi\"],\n",
       "  'charts_SENSCRITIQUE': {'note_moyenne': 7.5,\n",
       "   'nombre_critiques': 2831,\n",
       "   'repartition_note': [12, 26, 36, 67, 130, 301, 692, 974, 468, 125]}},\n",
       " {'nom_film': 'Les Gardiens de la galaxie Vol. 2',\n",
       "  'type_production': 'Film',\n",
       "  'theme_production': ['Action', ' science-fiction', ' comédie'],\n",
       "  'Synopsis': 'Les Gardiens de la galaxie Vol. 2 nous entraîne dans la suite des aventures de cette drôle de bande de mercenaires aux confins du cosmos. Les Gardiens vont cette fois devoir lutter pour rester unis lorsqu’ils percent le mystère de la véritable filiation de Star-Lord.',\n",
       "  'Realisateur': ['James Gunn'],\n",
       "  'duree_film': '2 h 17 min',\n",
       "  'sortie_film': '26 avril 2017',\n",
       "  'acteurs_principaux': ['Chris Pratt', ' Zoe Saldana', ' Dave Bautista'],\n",
       "  'charts_SENSCRITIQUE': {'note_moyenne': 6.5,\n",
       "   'nombre_critiques': 36053,\n",
       "   'repartition_note': [181,\n",
       "    317,\n",
       "    709,\n",
       "    1555,\n",
       "    3568,\n",
       "    7991,\n",
       "    11669,\n",
       "    7166,\n",
       "    2115,\n",
       "    782]}},\n",
       " {'nom_film': 'Dragons 2',\n",
       "  'type_production': \"Long-métrage d'animation\",\n",
       "  'theme_production': ['Animation', ' action', ' aventure'],\n",
       "  'Synopsis': \"Harold et Krokmou repartent à l'aventure à travers le monde. Ils découvrent alors une centaine de nouveaux dragons et un mystérieux cavalier.\",\n",
       "  'Realisateur': ['Dean Deblois'],\n",
       "  'duree_film': '1 h 45 min',\n",
       "  'sortie_film': '20 juin 2014',\n",
       "  'acteurs_principaux': ['Jay Baruchel', ' America Ferrera', ' Gerard Butler'],\n",
       "  'charts_SENSCRITIQUE': {'note_moyenne': 7.2,\n",
       "   'nombre_critiques': 28388,\n",
       "   'repartition_note': [70,\n",
       "    94,\n",
       "    202,\n",
       "    575,\n",
       "    1524,\n",
       "    4634,\n",
       "    9551,\n",
       "    7672,\n",
       "    2925,\n",
       "    1141]}},\n",
       " {'nom_film': 'Captain Marvel',\n",
       "  'type_production': 'Film',\n",
       "  'theme_production': ['Action', ' aventure', 'science-fiction'],\n",
       "  'Synopsis': 'Captain Marvel raconte l’histoire de Carol Danvers qui va devenir l’une des super-héroïnes les plus puissantes de l’univers lorsque la Terre se révèle l’enjeu d’une guerre galactique entre deux races extraterrestres.',\n",
       "  'Realisateur': ['Anna Boden', 'Ryan Fleck'],\n",
       "  'duree_film': '2 h 04 min',\n",
       "  'sortie_film': '6 mars 2019',\n",
       "  'acteurs_principaux': ['Brie Larson', ' Samuel L. Jackson', ' Jude Law'],\n",
       "  'charts_SENSCRITIQUE': {'note_moyenne': 5.8,\n",
       "   'nombre_critiques': 19041,\n",
       "   'repartition_note': [283,\n",
       "    374,\n",
       "    764,\n",
       "    1584,\n",
       "    3224,\n",
       "    5767,\n",
       "    4786,\n",
       "    1671,\n",
       "    383,\n",
       "    205]}},\n",
       " {'nom_film': 'Monstres Academy',\n",
       "  'type_production': \"Long-métrage d'animation\",\n",
       "  'theme_production': ['Animation', ' aventure', 'comédie'],\n",
       "  'Synopsis': \"Bob et Sulli sont de retour, mais maintenant nous les suivons à travers l’université où ils doivent grandir et s'unir pour devenir les meilleurs monstres du campus.\",\n",
       "  'Realisateur': ['Dan Scanlon'],\n",
       "  'duree_film': '1 h 44 min',\n",
       "  'sortie_film': '21 juin 2013',\n",
       "  'acteurs_principaux': ['Billy Crystal', ' John Goodman', ' Helen Mirren'],\n",
       "  'charts_SENSCRITIQUE': {'note_moyenne': 6.4,\n",
       "   'nombre_critiques': 27848,\n",
       "   'repartition_note': [92,\n",
       "    198,\n",
       "    445,\n",
       "    1329,\n",
       "    3461,\n",
       "    7720,\n",
       "    9335,\n",
       "    4015,\n",
       "    922,\n",
       "    331]}}]"
      ]
     },
     "execution_count": 10,
     "metadata": {},
     "output_type": "execute_result"
    }
   ],
   "source": [
    "#TEST POUR LA SUITE A EXECUTER POUR POUVOIR TESTER LE SCRAPPING SUR IMDB\n",
    "lst_dico = []\n",
    "for i in range(5):\n",
    "    a = test_SENSCRITIQUE()\n",
    "    while a[1] in lst_dico:\n",
    "        a = test_SENSCRITIQUE()\n",
    "    lst_dico.append(a[1])\n",
    "    \n",
    "lst_dico \n",
    "    "
   ]
  },
  {
   "cell_type": "markdown",
   "metadata": {},
   "source": [
    "# SCRAPPING IMDB"
   ]
  },
  {
   "cell_type": "code",
   "execution_count": 11,
   "metadata": {},
   "outputs": [],
   "source": [
    "def c_film(film):\n",
    "    return \"_\".join(\"_\".join(\"_\".join(film.split(' ')).split(\":\")).split('-'))\n",
    "\n",
    "def indice_nom_film(nom_film, liste_film):\n",
    "    for i in range(len(liste_film)):\n",
    "        if nom_film == liste_film[i]['nom_film']:\n",
    "            return i\n",
    "        \n",
    "def scrapping_IMDB(nom_film, liste_film, chemin_dossier_image):\n",
    "    chrome.get(\"https://www.imdb.com/\")\n",
    "    inputElement = chrome.find_element_by_id(\"suggestion-search\")\n",
    "    inputElement.send_keys(nom_film)\n",
    "    inputElement.submit() \n",
    "    time.sleep(1)\n",
    "    \n",
    "    j = indice_nom_film(nom_film, liste_film)\n",
    "    annee = int(liste_film[j]['sortie_film'][-4:])\n",
    "    indice = 0\n",
    "    \n",
    "    t = chrome.find_element_by_class_name('findSection').text.split('\\n')\n",
    "    for i in range(len(t)):\n",
    "        if str(annee) in t[i] and \"(TV Episode)\" not in t[i] and \"(TV Series)\" not in t[i] and \"(Video)\" not in t[i] and \"(Short)\" not in t[i] and \"(TV Mini-Series)\" not in t[i]:\n",
    "            indice = i\n",
    "            break \n",
    "        elif str(annee+1) in t[i] and \"(TV Episode)\" not in t[i] and \"(TV Series)\" not in t[i] and \"(Video)\" not in t[i] and \"(Short)\" not in t[i] and \"(TV Mini-Series)\" not in t[i]:\n",
    "            indice = i\n",
    "            break \n",
    "        elif str(annee-1) in t[i] and \"(TV Episode)\" not in t[i] and \"(TV Series)\" not in t[i] and \"(Video)\" not in t[i] and \"(Short)\" not in t[i] and \"(TV Mini-Series)\" not in t[i]:\n",
    "            indice = i\n",
    "            break \n",
    "    \n",
    "    link = chrome.find_element_by_link_text(chrome.find_element_by_class_name('findSection').text.split('\\n')[indice].split(' (')[0])\n",
    "    link.click()\n",
    "    time.sleep(1)\n",
    "    \n",
    "    #On récupère l'image de la fiche et on la sauvegarde\n",
    "    try: \n",
    "        a = chrome.find_element_by_xpath('//*[@id=\"title-overview-widget\"]/div[1]/div[3]/div[1]/a/img')\n",
    "    except:\n",
    "        a = chrome.find_element_by_xpath('//*[@id=\"title-overview-widget\"]/div[2]/div[1]/a/img')\n",
    "    src = a.get_attribute('src')\n",
    "    img = requests.get(src)\n",
    "    image = Image.open(io.BytesIO(img.content))\n",
    " \n",
    "    image.save(str(chemin_dossier_image)+'/'+str(c_film(nom_film))+'_poster.jpg')\n",
    "    \n",
    "    chrome.execute_script(\"window.scrollTo(0, document.body.scrollHeight);\")\n",
    "    chrome.execute_script(\"scrollTo(0, 0);\")\n",
    "    \n",
    "    a = chrome.find_element_by_class_name('ratings_wrapper')\n",
    "    charts_IMDB = [a.text.split('\\n')[0].split('/10')[0], a.text.split('\\n')[1]]\n",
    "    \n",
    "    b = chrome.find_element_by_class_name('titleReviewBar')\n",
    "    charts_METACRITIC = b.text.split(\"\\n\")[0]\n",
    "    \n",
    "    chrome.execute_script(\"window.scrollTo(0, document.body.scrollHeight);\") \n",
    "    \n",
    "    details = chrome.find_element_by_id('titleDetails')\n",
    "    budget = None\n",
    "    Cumulative_WW_Gross = None \n",
    "    location = None \n",
    "    for elm in details.text.split('\\n'):\n",
    "        if \"Budget:\" in elm:\n",
    "            budget = \"\".join(elm.split('Budget:')[1]).split(' (estimated)')[0]\n",
    "        elif \"Cumulative Worldwide Gross:\" in elm:\n",
    "            Cumulative_WW_Gross = elm.split('Cumulative Worldwide Gross: ')[1]\n",
    "        elif \"Country:\" in elm:\n",
    "            location = elm.split('Country: ')[1]\n",
    "\n",
    "    info_details = {'budget' : budget,\n",
    "             'Cumulative_WW_Gross' : Cumulative_WW_Gross,\n",
    "               'location' : location}\n",
    "    liste_film[j]['charts_IMDB'] = charts_IMDB\n",
    "    liste_film[j]['charts_METACRITIC'] = charts_METACRITIC\n",
    "    liste_film[j]['autres_details'] = info_details"
   ]
  },
  {
   "cell_type": "code",
   "execution_count": 110,
   "metadata": {},
   "outputs": [
    {
     "data": {
      "text/plain": [
       "\"\\nfor i in range(len(lst_dico)):\\n    scrapping_IMDB(lst_dico[i]['nom_film'], lst_dico, 'static/poster')\\n\""
      ]
     },
     "execution_count": 110,
     "metadata": {},
     "output_type": "execute_result"
    }
   ],
   "source": [
    "#Comme tout à l'heure cette boucle prend beaucoup de temps(environ 1h)\n",
    "#Si dessous, des instructions pour tester si le scrapping marche réellement\n",
    "\"\"\"\n",
    "for i in range(len(lst_dico)):\n",
    "    scrapping_IMDB(lst_dico[i]['nom_film'], lst_dico, 'static/poster')\n",
    "\"\"\"\n",
    "    "
   ]
  },
  {
   "cell_type": "code",
   "execution_count": 12,
   "metadata": {},
   "outputs": [
    {
     "data": {
      "text/plain": [
       "({'nom_film': 'Monstres Academy',\n",
       "  'type_production': \"Long-métrage d'animation\",\n",
       "  'theme_production': ['Animation', ' aventure', 'comédie'],\n",
       "  'Synopsis': \"Bob et Sulli sont de retour, mais maintenant nous les suivons à travers l’université où ils doivent grandir et s'unir pour devenir les meilleurs monstres du campus.\",\n",
       "  'Realisateur': ['Dan Scanlon'],\n",
       "  'duree_film': '1 h 44 min',\n",
       "  'sortie_film': '21 juin 2013',\n",
       "  'acteurs_principaux': ['Billy Crystal', ' John Goodman', ' Helen Mirren'],\n",
       "  'charts_SENSCRITIQUE': {'note_moyenne': 6.4,\n",
       "   'nombre_critiques': 27848,\n",
       "   'repartition_note': [92,\n",
       "    198,\n",
       "    445,\n",
       "    1329,\n",
       "    3461,\n",
       "    7720,\n",
       "    9335,\n",
       "    4015,\n",
       "    922,\n",
       "    331]}},\n",
       " {'nom_film': 'Monstres Academy',\n",
       "  'type_production': \"Long-métrage d'animation\",\n",
       "  'theme_production': ['Animation', ' aventure', 'comédie'],\n",
       "  'Synopsis': \"Bob et Sulli sont de retour, mais maintenant nous les suivons à travers l’université où ils doivent grandir et s'unir pour devenir les meilleurs monstres du campus.\",\n",
       "  'Realisateur': ['Dan Scanlon'],\n",
       "  'duree_film': '1 h 44 min',\n",
       "  'sortie_film': '21 juin 2013',\n",
       "  'acteurs_principaux': ['Billy Crystal', ' John Goodman', ' Helen Mirren'],\n",
       "  'charts_SENSCRITIQUE': {'note_moyenne': 6.4,\n",
       "   'nombre_critiques': 27848,\n",
       "   'repartition_note': [92, 198, 445, 1329, 3461, 7720, 9335, 4015, 922, 331]},\n",
       "  'charts_IMDB': ['7,3', '322 865'],\n",
       "  'charts_METACRITIC': '65',\n",
       "  'autres_details': {'budget': '$200,000,000',\n",
       "   'Cumulative_WW_Gross': '$743,559,645',\n",
       "   'location': 'USA'}})"
      ]
     },
     "execution_count": 12,
     "metadata": {},
     "output_type": "execute_result"
    }
   ],
   "source": [
    "#PROGRAMME DE TEST(Pour prouver que le scrapping marche) IMDB\n",
    "import copy\n",
    "film = lst_dico[r.randint(0,len(lst_dico)-1)]['nom_film']\n",
    "i = indice_nom_film(film, lst_dico)\n",
    "a = copy.deepcopy(lst_dico[i])\n",
    "scrapping_IMDB(film, lst_dico, 'dossier_test_images')\n",
    "a,lst_dico[i]"
   ]
  },
  {
   "cell_type": "markdown",
   "metadata": {},
   "source": [
    "# EXPORTATION DES DONNEES EN CSV"
   ]
  },
  {
   "cell_type": "markdown",
   "metadata": {},
   "source": [
    "Et enfin on exporte les données que nous avons récupérer dans un csv"
   ]
  },
  {
   "cell_type": "code",
   "execution_count": 133,
   "metadata": {},
   "outputs": [],
   "source": [
    "import pandas as pd\n",
    "df = pd.DataFrame(lst_dico)\n",
    "df.to_csv('data_FINAL.csv')"
   ]
  },
  {
   "cell_type": "code",
   "execution_count": null,
   "metadata": {},
   "outputs": [],
   "source": []
  }
 ],
 "metadata": {
  "kernelspec": {
   "display_name": "Python 3",
   "language": "python",
   "name": "python3"
  },
  "language_info": {
   "codemirror_mode": {
    "name": "ipython",
    "version": 3
   },
   "file_extension": ".py",
   "mimetype": "text/x-python",
   "name": "python",
   "nbconvert_exporter": "python",
   "pygments_lexer": "ipython3",
   "version": "3.8.3"
  }
 },
 "nbformat": 4,
 "nbformat_minor": 4
}
